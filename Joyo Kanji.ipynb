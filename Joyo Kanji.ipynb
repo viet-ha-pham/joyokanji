{
 "cells": [
  {
   "cell_type": "code",
   "execution_count": 3,
   "id": "6eb9fae7",
   "metadata": {},
   "outputs": [
    {
     "data": {
      "text/html": [
       "<div>\n",
       "<style scoped>\n",
       "    .dataframe tbody tr th:only-of-type {\n",
       "        vertical-align: middle;\n",
       "    }\n",
       "\n",
       "    .dataframe tbody tr th {\n",
       "        vertical-align: top;\n",
       "    }\n",
       "\n",
       "    .dataframe thead th {\n",
       "        text-align: right;\n",
       "    }\n",
       "</style>\n",
       "<table border=\"1\" class=\"dataframe\">\n",
       "  <thead>\n",
       "    <tr style=\"text-align: right;\">\n",
       "      <th></th>\n",
       "      <th>Tân tự thể</th>\n",
       "      <th>Cựu tự thể</th>\n",
       "      <th>Bộ thủ</th>\n",
       "      <th>Số nét</th>\n",
       "      <th>Sắp xếp theo lớp</th>\n",
       "      <th>Năm thêm vào</th>\n",
       "    </tr>\n",
       "  </thead>\n",
       "  <tbody>\n",
       "    <tr>\n",
       "      <th>0</th>\n",
       "      <td>亜</td>\n",
       "      <td>亞</td>\n",
       "      <td>二</td>\n",
       "      <td>7</td>\n",
       "      <td>NaN</td>\n",
       "      <td>NaN</td>\n",
       "    </tr>\n",
       "    <tr>\n",
       "      <th>1</th>\n",
       "      <td>哀</td>\n",
       "      <td>NaN</td>\n",
       "      <td>口</td>\n",
       "      <td>9</td>\n",
       "      <td>NaN</td>\n",
       "      <td>NaN</td>\n",
       "    </tr>\n",
       "    <tr>\n",
       "      <th>2</th>\n",
       "      <td>挨</td>\n",
       "      <td>NaN</td>\n",
       "      <td>手</td>\n",
       "      <td>10</td>\n",
       "      <td>NaN</td>\n",
       "      <td>2010.0</td>\n",
       "    </tr>\n",
       "    <tr>\n",
       "      <th>3</th>\n",
       "      <td>愛</td>\n",
       "      <td>NaN</td>\n",
       "      <td>心</td>\n",
       "      <td>13</td>\n",
       "      <td>4.0</td>\n",
       "      <td>NaN</td>\n",
       "    </tr>\n",
       "    <tr>\n",
       "      <th>4</th>\n",
       "      <td>曖</td>\n",
       "      <td>NaN</td>\n",
       "      <td>日</td>\n",
       "      <td>17</td>\n",
       "      <td>NaN</td>\n",
       "      <td>2010.0</td>\n",
       "    </tr>\n",
       "    <tr>\n",
       "      <th>...</th>\n",
       "      <td>...</td>\n",
       "      <td>...</td>\n",
       "      <td>...</td>\n",
       "      <td>...</td>\n",
       "      <td>...</td>\n",
       "      <td>...</td>\n",
       "    </tr>\n",
       "    <tr>\n",
       "      <th>2131</th>\n",
       "      <td>脇</td>\n",
       "      <td>NaN</td>\n",
       "      <td>肉</td>\n",
       "      <td>10</td>\n",
       "      <td>NaN</td>\n",
       "      <td>2010.0</td>\n",
       "    </tr>\n",
       "    <tr>\n",
       "      <th>2132</th>\n",
       "      <td>惑</td>\n",
       "      <td>NaN</td>\n",
       "      <td>心</td>\n",
       "      <td>12</td>\n",
       "      <td>NaN</td>\n",
       "      <td>NaN</td>\n",
       "    </tr>\n",
       "    <tr>\n",
       "      <th>2133</th>\n",
       "      <td>枠</td>\n",
       "      <td>NaN</td>\n",
       "      <td>木</td>\n",
       "      <td>8</td>\n",
       "      <td>NaN</td>\n",
       "      <td>1981.0</td>\n",
       "    </tr>\n",
       "    <tr>\n",
       "      <th>2134</th>\n",
       "      <td>湾</td>\n",
       "      <td>灣</td>\n",
       "      <td>水</td>\n",
       "      <td>12</td>\n",
       "      <td>NaN</td>\n",
       "      <td>NaN</td>\n",
       "    </tr>\n",
       "    <tr>\n",
       "      <th>2135</th>\n",
       "      <td>腕</td>\n",
       "      <td>NaN</td>\n",
       "      <td>肉</td>\n",
       "      <td>12</td>\n",
       "      <td>NaN</td>\n",
       "      <td>NaN</td>\n",
       "    </tr>\n",
       "  </tbody>\n",
       "</table>\n",
       "<p>2136 rows × 6 columns</p>\n",
       "</div>"
      ],
      "text/plain": [
       "     Tân tự thể Cựu tự thể Bộ thủ  Số nét  Sắp xếp theo lớp  Năm thêm vào\n",
       "0             亜          亞      二       7               NaN           NaN\n",
       "1             哀        NaN      口       9               NaN           NaN\n",
       "2             挨        NaN      手      10               NaN        2010.0\n",
       "3             愛        NaN      心      13               4.0           NaN\n",
       "4             曖        NaN      日      17               NaN        2010.0\n",
       "...         ...        ...    ...     ...               ...           ...\n",
       "2131          脇        NaN      肉      10               NaN        2010.0\n",
       "2132          惑        NaN      心      12               NaN           NaN\n",
       "2133          枠        NaN      木       8               NaN        1981.0\n",
       "2134          湾          灣      水      12               NaN           NaN\n",
       "2135          腕        NaN      肉      12               NaN           NaN\n",
       "\n",
       "[2136 rows x 6 columns]"
      ]
     },
     "execution_count": 3,
     "metadata": {},
     "output_type": "execute_result"
    }
   ],
   "source": [
    "import requests\n",
    "import pandas as pd\n",
    "\n",
    "def read_html_table():\n",
    "    url = \"https://vi.wikipedia.org/wiki/J%C5%8Dy%C5%8D_kanji\"\n",
    "    # Gửi yêu cầu GET đến trang web\n",
    "    response = requests.get(url)\n",
    "    \n",
    "    # Kiểm tra mã trạng thái của yêu cầu\n",
    "    if response.status_code == 200:\n",
    "        # Đọc nội dung HTML\n",
    "        html_content = response.content\n",
    "        \n",
    "        # Sử dụng pandas để đọc bảng từ HTML\n",
    "        tables = pd.read_html(html_content)\n",
    "        df = tables[5]    \n",
    "            # Trả về dataframe\n",
    "        return df\n",
    "    else:\n",
    "        print(\"Yêu cầu không thành công. Mã trạng thái:\", response.status_code)\n",
    "\n",
    "# Gọi hàm và lưu kết quả vào dataframe\n",
    "df = read_html_table()\n",
    "df = df.drop(df.columns[0], axis=1)\n",
    "# In dataframe\n",
    "df"
   ]
  },
  {
   "cell_type": "code",
   "execution_count": 4,
   "id": "d96ad879",
   "metadata": {},
   "outputs": [],
   "source": [
    "import pickle\n",
    "with open(\"joyokanji.pkl\", \"wb\") as f:\n",
    "    pickle.dump(df, f)"
   ]
  },
  {
   "cell_type": "code",
   "execution_count": 15,
   "id": "48aafdc4",
   "metadata": {},
   "outputs": [],
   "source": [
    "def get_kanji_nstroke(min_nstroke, max_nstroke):\n",
    "    with open(\"joyokanji.pkl\", \"rb\") as f:\n",
    "        df = pickle.load(f)\n",
    "    res = list(df[(df['Số nét'] >= min_nstroke) & (df['Số nét'] <= max_nstroke)]['Tân tự thể'])\n",
    "    res = [ x[0] for x in res ]\n",
    "    return res"
   ]
  },
  {
   "cell_type": "code",
   "execution_count": 16,
   "id": "4a2ff9b9",
   "metadata": {},
   "outputs": [
    {
     "data": {
      "text/plain": [
       "['一',\n",
       " '乙',\n",
       " '下',\n",
       " '干',\n",
       " '丸',\n",
       " '九',\n",
       " '久',\n",
       " '及',\n",
       " '弓',\n",
       " '巾',\n",
       " '己',\n",
       " '口',\n",
       " '工',\n",
       " '乞',\n",
       " '才',\n",
       " '三',\n",
       " '山',\n",
       " '士',\n",
       " '子',\n",
       " '七',\n",
       " '十',\n",
       " '女',\n",
       " '小',\n",
       " '上',\n",
       " '丈',\n",
       " '人',\n",
       " '刃',\n",
       " '寸',\n",
       " '夕',\n",
       " '千',\n",
       " '川',\n",
       " '大',\n",
       " '丁',\n",
       " '土',\n",
       " '刀',\n",
       " '二',\n",
       " '入',\n",
       " '八',\n",
       " '亡',\n",
       " '凡',\n",
       " '又',\n",
       " '万',\n",
       " '与',\n",
       " '了',\n",
       " '力']"
      ]
     },
     "execution_count": 16,
     "metadata": {},
     "output_type": "execute_result"
    }
   ],
   "source": [
    "get_kanji_nstroke(1,3)"
   ]
  },
  {
   "cell_type": "code",
   "execution_count": 17,
   "id": "500e8756",
   "metadata": {},
   "outputs": [],
   "source": [
    "import random\n",
    "def get_random_kanji_nstroke(min_nstroke, max_nstroke, num=1):\n",
    "    kanji = get_kanji_nstroke(min_nstroke, max_nstroke)\n",
    "    return random.sample(kanji, k=num)"
   ]
  },
  {
   "cell_type": "code",
   "execution_count": 18,
   "id": "50f7d08c",
   "metadata": {},
   "outputs": [
    {
     "data": {
      "text/plain": [
       "['士']"
      ]
     },
     "execution_count": 18,
     "metadata": {},
     "output_type": "execute_result"
    }
   ],
   "source": [
    "get_random_kanji_nstroke(1,3)"
   ]
  },
  {
   "cell_type": "code",
   "execution_count": 19,
   "id": "30b88b72",
   "metadata": {},
   "outputs": [
    {
     "data": {
      "text/plain": [
       "['梗', '軟', '惧', '結', '街']"
      ]
     },
     "execution_count": 19,
     "metadata": {},
     "output_type": "execute_result"
    }
   ],
   "source": [
    "get_random_kanji_nstroke(10,13,5)"
   ]
  },
  {
   "cell_type": "code",
   "execution_count": 20,
   "id": "3cb9cb21",
   "metadata": {},
   "outputs": [
    {
     "data": {
      "text/plain": [
       "['鬱', '躍', '騰', '鐘', '籠']"
      ]
     },
     "execution_count": 20,
     "metadata": {},
     "output_type": "execute_result"
    }
   ],
   "source": [
    "get_random_kanji_nstroke(20,33,5)"
   ]
  },
  {
   "cell_type": "code",
   "execution_count": 21,
   "id": "dde8040f",
   "metadata": {},
   "outputs": [],
   "source": [
    "def get_kanji_radical(radical):\n",
    "    with open(\"joyokanji.pkl\", \"rb\") as f:\n",
    "        df = pickle.load(f)\n",
    "    res = list(df[(df['Bộ thủ'] == radical)]['Tân tự thể'])\n",
    "    res = [ x[0] for x in res ]\n",
    "    return res"
   ]
  },
  {
   "cell_type": "code",
   "execution_count": 22,
   "id": "ac6ecd1a",
   "metadata": {},
   "outputs": [
    {
     "data": {
      "text/plain": [
       "['挨',\n",
       " '握',\n",
       " '扱',\n",
       " '援',\n",
       " '押',\n",
       " '拐',\n",
       " '拡',\n",
       " '掛',\n",
       " '括',\n",
       " '換',\n",
       " '揮',\n",
       " '技',\n",
       " '擬',\n",
       " '拒',\n",
       " '拠',\n",
       " '挙',\n",
       " '挟',\n",
       " '掘',\n",
       " '掲',\n",
       " '携',\n",
       " '撃',\n",
       " '拳',\n",
       " '抗',\n",
       " '拘',\n",
       " '控',\n",
       " '拷',\n",
       " '挫',\n",
       " '才',\n",
       " '採',\n",
       " '搾',\n",
       " '拶',\n",
       " '撮',\n",
       " '擦',\n",
       " '指',\n",
       " '摯',\n",
       " '持',\n",
       " '捨',\n",
       " '手',\n",
       " '授',\n",
       " '拾',\n",
       " '抄',\n",
       " '招',\n",
       " '承',\n",
       " '掌',\n",
       " '拭',\n",
       " '振',\n",
       " '推',\n",
       " '据',\n",
       " '折',\n",
       " '拙',\n",
       " '接',\n",
       " '摂',\n",
       " '措',\n",
       " '捜',\n",
       " '挿',\n",
       " '掃',\n",
       " '操',\n",
       " '捉',\n",
       " '損',\n",
       " '打',\n",
       " '択',\n",
       " '拓',\n",
       " '担',\n",
       " '探',\n",
       " '抽',\n",
       " '挑',\n",
       " '捗',\n",
       " '抵',\n",
       " '提',\n",
       " '摘',\n",
       " '撤',\n",
       " '投',\n",
       " '搭',\n",
       " '捻',\n",
       " '把',\n",
       " '拝',\n",
       " '排',\n",
       " '拍',\n",
       " '抜',\n",
       " '搬',\n",
       " '批',\n",
       " '披',\n",
       " '描',\n",
       " '扶',\n",
       " '払',\n",
       " '捕',\n",
       " '抱',\n",
       " '撲',\n",
       " '摩',\n",
       " '抹',\n",
       " '揚',\n",
       " '揺',\n",
       " '擁',\n",
       " '抑',\n",
       " '拉']"
      ]
     },
     "execution_count": 22,
     "metadata": {},
     "output_type": "execute_result"
    }
   ],
   "source": [
    "get_kanji_radical(\"手\")"
   ]
  },
  {
   "cell_type": "code",
   "execution_count": 23,
   "id": "6277834b",
   "metadata": {},
   "outputs": [],
   "source": [
    "def get_random_kanji_radical(radical, num=1):\n",
    "    kanji = get_kanji_radical(radical)\n",
    "    return random.sample(kanji, k=num)"
   ]
  },
  {
   "cell_type": "code",
   "execution_count": 24,
   "id": "6a4cf4a1",
   "metadata": {},
   "outputs": [
    {
     "data": {
      "text/plain": [
       "['拙']"
      ]
     },
     "execution_count": 24,
     "metadata": {},
     "output_type": "execute_result"
    }
   ],
   "source": [
    "get_random_kanji_radical(\"手\")"
   ]
  },
  {
   "cell_type": "code",
   "execution_count": 25,
   "id": "adab4cb6",
   "metadata": {},
   "outputs": [
    {
     "data": {
      "text/plain": [
       "['拠', '掲', '拭', '指', '抑']"
      ]
     },
     "execution_count": 25,
     "metadata": {},
     "output_type": "execute_result"
    }
   ],
   "source": [
    "get_random_kanji_radical(\"手\", 5)"
   ]
  }
 ],
 "metadata": {
  "kernelspec": {
   "display_name": "Python 3 (ipykernel)",
   "language": "python",
   "name": "python3"
  },
  "language_info": {
   "codemirror_mode": {
    "name": "ipython",
    "version": 3
   },
   "file_extension": ".py",
   "mimetype": "text/x-python",
   "name": "python",
   "nbconvert_exporter": "python",
   "pygments_lexer": "ipython3",
   "version": "3.9.12"
  }
 },
 "nbformat": 4,
 "nbformat_minor": 5
}
